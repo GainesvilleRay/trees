{
 "cells": [
  {
   "cell_type": "code",
   "execution_count": 2,
   "metadata": {},
   "outputs": [],
   "source": [
    "#!/use/bin/python3\n",
    "\n",
    "import requests\n",
    "from pyquery import PyQuery as pq"
   ]
  },
  {
   "cell_type": "code",
   "execution_count": null,
   "metadata": {},
   "outputs": [],
   "source": [
    "response = requests.get('http://championtrees.freshfromflorida.com/home.mvc/Detail/186')\n",
    "doc = pq(response.content)\n",
    "lat_long = pq(doc('tr')[7]).text()\n",
    "print(lat_long)"
   ]
  },
  {
   "cell_type": "code",
   "execution_count": 3,
   "metadata": {},
   "outputs": [
    {
     "name": "stdout",
     "output_type": "stream",
     "text": [
      "Latitude: 29.64522\n",
      "Longitude: -82.358\n",
      "Latitude: 29.65887\n",
      "Longitude: -82.3394\n",
      "Latitude: Withheld\n",
      "Longitude: Withheld\n",
      "Latitude: 29.74604\n",
      "Longitude: -82.4592\n",
      "Latitude: Withheld\n",
      "Longitude: Withheld\n",
      "Latitude: Withheld\n",
      "Longitude: Withheld\n",
      "Latitude: 29.85832\n",
      "Longitude: -82.58858\n",
      "Latitude: 29.88\n",
      "Longitude: -82.48\n",
      "Latitude: 29.64571\n",
      "Longitude: -82.34377\n",
      "Latitude: 29.82244\n",
      "Longitude: -82.59905\n",
      "Latitude: Withheld\n",
      "Longitude: Withheld\n",
      "Latitude: 29.51242\n",
      "Longitude: -82.51456\n",
      "Latitude: Withheld\n",
      "Longitude: Withheld\n",
      "Latitude: 29.68682\n",
      "Longitude: -82.33601\n",
      "Latitude: Withheld\n",
      "Longitude: Withheld\n",
      "Latitude: Withheld\n",
      "Longitude: Withheld\n",
      "Latitude: 29.71876\n",
      "Longitude: -82.46152\n",
      "Latitude: 29.62\n",
      "Longitude: -82.41\n",
      "Latitude: 29.83394\n",
      "Longitude: -82.61346\n",
      "Latitude: 29.71305\n",
      "Longitude: -82.45641\n",
      "Latitude: 29.65502\n",
      "Longitude: -82.33509\n",
      "Latitude: Withheld\n",
      "Longitude: Withheld\n",
      "Latitude: Withheld\n",
      "Longitude: Withheld\n",
      "Latitude: 29.81177\n",
      "Longitude: -82.39082\n",
      "Latitude: 29.63678\n",
      "Longitude: -82.40803\n",
      "Latitude: 29.64031\n",
      "Longitude: -82.33394\n",
      "Latitude: Withheld\n",
      "Longitude: Withheld\n",
      "Latitude: 29.64014\n",
      "Longitude: -82.3364\n",
      "Latitude: Withheld\n",
      "Longitude: Withheld\n",
      "Latitude: Withheld\n",
      "Longitude: Withheld\n",
      "Latitude: 29.61893\n",
      "Longitude: -82.21423\n",
      "Latitude: Withheld\n",
      "Longitude: Withheld\n",
      "Latitude: Withheld\n",
      "Longitude: Withheld\n",
      "Latitude: Withheld\n",
      "Longitude: Withheld\n",
      "Latitude: Withheld\n",
      "Longitude: Withheld\n",
      "Latitude: Withheld\n",
      "Longitude: Withheld\n",
      "Latitude: 29.64031\n",
      "Longitude: -82.3367\n",
      "Latitude: Withheld\n",
      "Longitude: Withheld\n",
      "Latitude: Withheld\n",
      "Longitude: Withheld\n",
      "Latitude: Withheld\n",
      "Longitude: Withheld\n",
      "Latitude: 29.6428\n",
      "Longitude: -82.3433\n",
      "Latitude: 29.6981\n",
      "Longitude: -82.4198\n",
      "Latitude: Withheld\n",
      "Longitude: Withheld\n",
      "Latitude: 29.71656\n",
      "Longitude: -82.41644\n",
      "Latitude: 29.60916\n",
      "Longitude: -82.3041\n",
      "Latitude: 29.7527\n",
      "Longitude: -82.57319\n",
      "Latitude: 29.66557\n",
      "Longitude: -82.3803\n",
      "Latitude: 29.65817\n",
      "Longitude: -82.53975\n",
      "Latitude: 29.65793\n",
      "Longitude: -82.5399\n",
      "Latitude: 29.74646\n",
      "Longitude: -82.45866\n",
      "Latitude: 29.77579\n",
      "Longitude: -82.47169\n",
      "Latitude: 29.61958\n",
      "Longitude: -82.29391\n",
      "Latitude: 29.52788\n",
      "Longitude: -82.52434\n",
      "Latitude: 29.7705\n",
      "Longitude: -82.35706\n",
      "Latitude: Withheld\n",
      "Longitude: Withheld\n"
     ]
    }
   ],
   "source": [
    "tree_pk = ['139', '167', '170', '172', '174', '175', '176', '177', '178', \n",
    "           '180', '181', '182', '183', '184', '185', '186', '188', '189',\n",
    "           '190', '191', '194', '195', '197', '199', '201', '228', '229',\n",
    "           '230', '232', '380', '386', '421', '422', '423', '425', '881', \n",
    "           '904', '909', '998', '1035', '1036', '1037', '1038', '1039',\n",
    "           '1040', '1041', '1064', '1072', '1168', '1169', '1170', '1199',\n",
    "           '1200', '1212', '1218']\n",
    "url_base = 'http://championtrees.freshfromflorida.com/home.mvc/Detail/'\n",
    "\n",
    "for item in tree_pk:\n",
    "    url_tree = url_base + item\n",
    "    response = requests.get(url_tree)\n",
    "    doc = pq(response.content)\n",
    "    lat_long = pq(doc('tr')[7]).text()\n",
    "    print(lat_long)"
   ]
  },
  {
   "cell_type": "code",
   "execution_count": 10,
   "metadata": {},
   "outputs": [],
   "source": [
    "# This just replaces each in succession. Probably need a function.\n",
    "\n",
    "for i in tree_pk:\n",
    "    url_tree = url_base + i\n",
    "    response = requests.get(url_tree)\n",
    "    doc = pq(response.content)\n",
    "    lat_long = pq(doc('tr')[7]).text()\n",
    "    l = []\n",
    "    l.append(lat_long)"
   ]
  },
  {
   "cell_type": "code",
   "execution_count": 11,
   "metadata": {},
   "outputs": [
    {
     "name": "stdout",
     "output_type": "stream",
     "text": [
      "Latitude: Withheld\n",
      "Longitude: Withheld\n"
     ]
    }
   ],
   "source": [
    "print(lat_long)"
   ]
  },
  {
   "cell_type": "code",
   "execution_count": null,
   "metadata": {},
   "outputs": [],
   "source": []
  }
 ],
 "metadata": {
  "kernelspec": {
   "display_name": "Python 3",
   "language": "python",
   "name": "python3"
  },
  "language_info": {
   "codemirror_mode": {
    "name": "ipython",
    "version": 3
   },
   "file_extension": ".py",
   "mimetype": "text/x-python",
   "name": "python",
   "nbconvert_exporter": "python",
   "pygments_lexer": "ipython3",
   "version": "3.6.0"
  }
 },
 "nbformat": 4,
 "nbformat_minor": 2
}
